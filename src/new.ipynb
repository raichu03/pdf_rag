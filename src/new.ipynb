{
 "cells": [
  {
   "cell_type": "code",
   "execution_count": 2,
   "id": "7ae3e68e",
   "metadata": {},
   "outputs": [],
   "source": [
    "from utils import MetaData\n",
    "new_data = MetaData()"
   ]
  },
  {
   "cell_type": "code",
   "execution_count": 3,
   "id": "89f08d63",
   "metadata": {},
   "outputs": [],
   "source": [
    "# Example usage:\n",
    "test_chunks = [\n",
    "    \"This is the first chunk of text from a sample document.\",\n",
    "    \"This is the second chunk containing different information.\",\n",
    "    \"Here's a third chunk with more sample content.\",\n",
    "    \"And finally, the fourth chunk to complete our test data.\"\n",
    "]"
   ]
  },
  {
   "cell_type": "code",
   "execution_count": 4,
   "id": "cccccc1a",
   "metadata": {},
   "outputs": [
    {
     "name": "stdout",
     "output_type": "stream",
     "text": [
      "Successfully added 4 chunks for document 'sample'.\n"
     ]
    }
   ],
   "source": [
    "weaviate_data = new_data.add_data(document_name=\"sample\",text_chunks=test_chunks)"
   ]
  },
  {
   "cell_type": "code",
   "execution_count": 5,
   "id": "197eb8b0",
   "metadata": {},
   "outputs": [
    {
     "name": "stdout",
     "output_type": "stream",
     "text": [
      "{'chunk': 'This is the first chunk of text from a sample document.', 'uuid': '8712d55b-4147-5f1f-a2a5-c99651d7cb43'}\n",
      "{'chunk': 'This is the second chunk containing different information.', 'uuid': 'd294dd86-7f5c-5d70-a3de-19b85b6524b3'}\n",
      "{'chunk': \"Here's a third chunk with more sample content.\", 'uuid': '248354a0-25d7-5ec1-919c-64676beb4db2'}\n",
      "{'chunk': 'And finally, the fourth chunk to complete our test data.', 'uuid': '7e3dbd0d-711d-5c8b-b769-925e08ff74a5'}\n"
     ]
    }
   ],
   "source": [
    "for i, chunks in enumerate(weaviate_data):\n",
    "    print(chunks)"
   ]
  },
  {
   "cell_type": "code",
   "execution_count": null,
   "id": "a36fc97d",
   "metadata": {},
   "outputs": [],
   "source": []
  }
 ],
 "metadata": {
  "kernelspec": {
   "display_name": "venv",
   "language": "python",
   "name": "python3"
  },
  "language_info": {
   "codemirror_mode": {
    "name": "ipython",
    "version": 3
   },
   "file_extension": ".py",
   "mimetype": "text/x-python",
   "name": "python",
   "nbconvert_exporter": "python",
   "pygments_lexer": "ipython3",
   "version": "3.12.3"
  }
 },
 "nbformat": 4,
 "nbformat_minor": 5
}
